{
 "cells": [
  {
   "cell_type": "markdown",
   "metadata": {},
   "source": [
    "# Compare Data Statistics for Real and Synthetic Data "
   ]
  },
  {
   "cell_type": "code",
   "execution_count": 21,
   "metadata": {},
   "outputs": [],
   "source": [
    "from src.data.create_simulated_data import SimulateData\n",
    "from src.data.data_statistics import get_acf, get_df \n",
    "import numpy as np \n",
    "import os "
   ]
  },
  {
   "cell_type": "code",
   "execution_count": 15,
   "metadata": {},
   "outputs": [],
   "source": [
    "# os.chdir(\"../data\")\n",
    "simulator = SimulateData(seed = 0, stim_amp=4500, noise_params = [200, 1, 10, 1.5])\n",
    "simulator.construct_signal()"
   ]
  },
  {
   "cell_type": "code",
   "execution_count": 22,
   "metadata": {},
   "outputs": [
    {
     "name": "stdout",
     "output_type": "stream",
     "text": [
      "-7576.0626552076565\n",
      "4664.460839446008\n",
      "87.3981976325334\n",
      "[1.         0.97949122 0.92840145]\n",
      "(364.3798828125, 56.2285859354886)\n"
     ]
    }
   ],
   "source": [
    "print(np.min(simulator.signal))\n",
    "print(np.max(simulator.signal))\n",
    "print(np.percentile(simulator.signal, 75) - np.percentile(simulator.signal, 25))\n",
    "print(get_acf(simulator.signal))\n",
    "print(get_df(simulator.signal))"
   ]
  }
 ],
 "metadata": {
  "kernelspec": {
   "display_name": "thesis",
   "language": "python",
   "name": "python3"
  },
  "language_info": {
   "codemirror_mode": {
    "name": "ipython",
    "version": 3
   },
   "file_extension": ".py",
   "mimetype": "text/x-python",
   "name": "python",
   "nbconvert_exporter": "python",
   "pygments_lexer": "ipython3",
   "version": "3.12.4"
  }
 },
 "nbformat": 4,
 "nbformat_minor": 2
}
