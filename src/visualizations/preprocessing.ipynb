{
 "cells": [
  {
   "cell_type": "markdown",
   "metadata": {},
   "source": [
    "# Preprocessing "
   ]
  },
  {
   "cell_type": "code",
   "execution_count": null,
   "metadata": {},
   "outputs": [],
   "source": [
    "# import relevant packages \n",
    "import numpy as np\n",
    "import matplotlib.pyplot as plt\n",
    "import seaborn as sns\n",
    "\n",
    "\n",
    "sns.set_theme()"
   ]
  },
  {
   "cell_type": "markdown",
   "metadata": {},
   "source": []
  },
  {
   "cell_type": "code",
   "execution_count": 7,
   "metadata": {},
   "outputs": [
    {
     "data": {
      "text/plain": [
       "['../../data/raw/Ramp data/Eye 3\\\\ramp_file1.ns5',\n",
       " '../../data/raw/Ramp data/Eye 3\\\\ramp_file2.ns5',\n",
       " '../../data/raw/Ramp data/Eye 3\\\\ramp_file3.ns5',\n",
       " '../../data/raw/Ramp data/Eye 3\\\\ramp_file4.ns5',\n",
       " '../../data/raw/Ramp data/Eye 3\\\\ramp_file5.ns5',\n",
       " '../../data/raw/Ramp data/Eye 3\\\\ramp_file6.ns5',\n",
       " '../../data/raw/Ramp data/Eye 3\\\\ramp_file7.ns5',\n",
       " '../../data/raw/Ramp data/Eye 3\\\\ramp_file8.ns5',\n",
       " '../../data/raw/Ramp data/Eye 3\\\\ramp_file9.ns5',\n",
       " '../../data/raw/Ramp data/Eye 3\\\\ramp_file10.ns5',\n",
       " '../../data/raw/Ramp data/Eye 3\\\\ramp_file11.ns5',\n",
       " '../../data/raw/Ramp data/Eye 3\\\\ramp_file12.ns5',\n",
       " '../../data/raw/Ramp data/Eye 3\\\\ramp_file13.ns5',\n",
       " '../../data/raw/Ramp data/Eye 3\\\\ramp_file14.ns5']"
      ]
     },
     "execution_count": 7,
     "metadata": {},
     "output_type": "execute_result"
    }
   ],
   "source": [
    "import glob \n",
    "import os \n",
    "eye = 2\n",
    "\n",
    "paths = sorted(glob.glob(os.path.join(\"../../data/raw/Ramp data/Eye \" + str(eye+1), \"*.ns5\")), key = len)\n",
    "paths "
   ]
  }
 ],
 "metadata": {
  "kernelspec": {
   "display_name": "thesis",
   "language": "python",
   "name": "python3"
  },
  "language_info": {
   "codemirror_mode": {
    "name": "ipython",
    "version": 3
   },
   "file_extension": ".py",
   "mimetype": "text/x-python",
   "name": "python",
   "nbconvert_exporter": "python",
   "pygments_lexer": "ipython3",
   "version": "3.12.4"
  }
 },
 "nbformat": 4,
 "nbformat_minor": 2
}
