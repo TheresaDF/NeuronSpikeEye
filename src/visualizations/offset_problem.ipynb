{
 "cells": [
  {
   "cell_type": "markdown",
   "metadata": {},
   "source": [
    "# Illustrate the Effect of Varying SA Locations "
   ]
  },
  {
   "cell_type": "code",
   "execution_count": null,
   "metadata": {},
   "outputs": [],
   "source": [
    "from src.data.preprocess_utils import filter \n",
    "from sklearn.decomposition import FastICA\n",
    "from statsmodels.tsa.stattools import acf\n",
    "from matplotlib import pyplot as plt \n",
    "import seaborn as sns \n",
    "import pickle \n",
    "import os \n",
    "\n",
    "sns.set_theme()"
   ]
  },
  {
   "cell_type": "markdown",
   "metadata": {},
   "source": [
    "### Read data "
   ]
  },
  {
   "cell_type": "code",
   "execution_count": 5,
   "metadata": {},
   "outputs": [],
   "source": [
    "with open(\"simulated_data_new.pkl\", \"rb\") as file: \n",
    "    data_no_offset = pickle.load(file)\n",
    "file.close()\n",
    "with open(\"simulated_data.pkl\", \"rb\") as file: \n",
    "    data_offset = pickle.load(file)\n",
    "file.close()\n",
    "\n",
    "obs_no_offset = data_no_offset['obs_signal']\n",
    "obs_offset = data_offset['obs_signal']"
   ]
  },
  {
   "cell_type": "markdown",
   "metadata": {},
   "source": [
    "### Find ICA component with highest ACF at 50 Hz "
   ]
  },
  {
   "cell_type": "code",
   "execution_count": null,
   "metadata": {},
   "outputs": [],
   "source": []
  },
  {
   "cell_type": "markdown",
   "metadata": {},
   "source": [
    "### Compare Preprocessing "
   ]
  }
 ],
 "metadata": {
  "kernelspec": {
   "display_name": "thesis",
   "language": "python",
   "name": "python3"
  },
  "language_info": {
   "codemirror_mode": {
    "name": "ipython",
    "version": 3
   },
   "file_extension": ".py",
   "mimetype": "text/x-python",
   "name": "python",
   "nbconvert_exporter": "python",
   "pygments_lexer": "ipython3",
   "version": "3.12.4"
  }
 },
 "nbformat": 4,
 "nbformat_minor": 2
}
