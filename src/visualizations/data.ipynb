{
 "cells": [
  {
   "cell_type": "markdown",
   "metadata": {},
   "source": [
    "# Descriptive plots of Data "
   ]
  },
  {
   "cell_type": "code",
   "execution_count": 1,
   "metadata": {},
   "outputs": [],
   "source": [
    "from matplotlib import pyplot as plt \n",
    "import numpy as np\n",
    "import seaborn as sns \n",
    "\n",
    "sns.set_theme()\n",
    "\n",
    "rcParams = {\n",
    "    \"font.family\": \"serif\",  # use serif/main font for text elements\n",
    "    'text.usetex': True,\n",
    "    'font.size': 8,\n",
    "    'axes.labelsize': 7,\n",
    "    'axes.titlesize': 9,\n",
    "    'xtick.labelsize': 6,\n",
    "    'ytick.labelsize': 6,\n",
    "    'legend.fontsize': 7,\n",
    "    'axes.labelpad': 1,\n",
    "    'axes.axisbelow': True,  # draw gridlines below other elements\n",
    "    \"pgf.rcfonts\": False,    # don't setup fonts from rc parameters\n",
    "    \"pgf.preamble\": \"\\n\".join([\n",
    "        r\"\\usepackage{url}\",            # load additional packages\n",
    "        r\"\\usepackage{amsmath,amssymb}\",   # unicode math setup\n",
    "        #  r\"\\setmainfont{DejaVu Serif}\",  # serif font via preamble\n",
    "    ])\n",
    "}\n",
    "plt.rcParams.update(rcParams)\n",
    "\n",
    "figdir = \"../../../figures/\"\n",
    "def savefig(fig, name, width=6, height=4):\n",
    "    # apply rcParams\n",
    "    fig.set_size_inches(width, height)\n",
    "    fig.savefig(figdir + name + \".pdf\", bbox_inches='tight')"
   ]
  },
  {
   "cell_type": "markdown",
   "metadata": {},
   "source": []
  }
 ],
 "metadata": {
  "kernelspec": {
   "display_name": "thesis",
   "language": "python",
   "name": "python3"
  },
  "language_info": {
   "codemirror_mode": {
    "name": "ipython",
    "version": 3
   },
   "file_extension": ".py",
   "mimetype": "text/x-python",
   "name": "python",
   "nbconvert_exporter": "python",
   "pygments_lexer": "ipython3",
   "version": "3.12.4"
  }
 },
 "nbformat": 4,
 "nbformat_minor": 2
}
